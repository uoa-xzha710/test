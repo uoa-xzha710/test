{
 "cells": [
  {
   "cell_type": "markdown",
   "metadata": {},
   "source": [
    "# Iteration 4 BDAS Step 3"
   ]
  },
  {
   "cell_type": "markdown",
   "metadata": {},
   "source": [
    "## xzha710 408571028"
   ]
  },
  {
   "cell_type": "markdown",
   "metadata": {},
   "source": [
    "Data Filtering"
   ]
  },
  {
   "cell_type": "code",
   "execution_count": 1,
   "metadata": {},
   "outputs": [
    {
     "name": "stderr",
     "output_type": "stream",
     "text": [
      "WARNING: An illegal reflective access operation has occurred\n",
      "WARNING: Illegal reflective access by org.apache.spark.unsafe.Platform (file:/home/ubuntu/.local/lib/python3.10/site-packages/pyspark/jars/spark-unsafe_2.12-3.2.1.jar) to constructor java.nio.DirectByteBuffer(long,int)\n",
      "WARNING: Please consider reporting this to the maintainers of org.apache.spark.unsafe.Platform\n",
      "WARNING: Use --illegal-access=warn to enable warnings of further illegal reflective access operations\n",
      "WARNING: All illegal access operations will be denied in a future release\n",
      "Using Spark's default log4j profile: org/apache/spark/log4j-defaults.properties\n",
      "Setting default log level to \"WARN\".\n",
      "To adjust logging level use sc.setLogLevel(newLevel). For SparkR, use setLogLevel(newLevel).\n",
      "23/10/10 06:28:34 WARN NativeCodeLoader: Unable to load native-hadoop library for your platform... using builtin-java classes where applicable\n"
     ]
    }
   ],
   "source": [
    "from pyspark.sql import SparkSession\n",
    "\n",
    "# Create a Spark session\n",
    "spark = SparkSession.builder.appName(\"AgrofoodAnalysis\").getOrCreate()\n",
    "\n",
    "# Load the dataset from the uploaded path\n",
    "data = spark.read.csv(\"Agrofood_co2_emission.csv\", header=True, inferSchema=True)\n",
    "\n",
    "selected_columns = [\n",
    "    'Area', 'Year', \n",
    "    'Savanna fires', 'Forest fires', 'Crop Residues', 'Rice Cultivation', \n",
    "    'Food Transport', 'Forestland', 'Net Forest conversion', \n",
    "    'Food Household Consumption', 'Food Retail', 'On-farm Electricity Use', \n",
    "    'Food Packaging', 'Agrifood Systems Waste Disposal', 'Food Processing', \n",
    "    'Fertilizers Manufacturing', 'IPPU', 'Manure applied to Soils', \n",
    "    'Manure left on Pasture', 'Manure Management', \n",
    "    'Rural population', 'Urban population', \n",
    "    'Total Population - Male', 'Total Population - Female', \n",
    "    'total_emission', 'Average Temperature °C'\n",
    "]\n",
    "\n",
    "# Filter the dataframe to keep only the selected columns\n",
    "filtered_data = data.select(selected_columns)"
   ]
  },
  {
   "cell_type": "markdown",
   "metadata": {},
   "source": [
    "Handle Missing Values"
   ]
  },
  {
   "cell_type": "code",
   "execution_count": 2,
   "metadata": {},
   "outputs": [
    {
     "name": "stderr",
     "output_type": "stream",
     "text": [
      "23/10/10 06:28:48 WARN package: Truncated the string representation of a plan since it was too large. This behavior can be adjusted by setting 'spark.sql.debug.maxToStringFields'.\n"
     ]
    },
    {
     "name": "stdout",
     "output_type": "stream",
     "text": [
      "+----+----+--------------------+--------------------+------------------+----------------+--------------+-------------------+---------------------+--------------------------+-----------+-----------------------+--------------+-------------------------------+---------------+-------------------------+-------------------+-----------------------+----------------------+-------------------+----------------+----------------+-----------------------+-------------------------+--------------+----------------------+\n",
      "|Area|Year|       Savanna fires|        Forest fires|     Crop Residues|Rice Cultivation|Food Transport|         Forestland|Net Forest conversion|Food Household Consumption|Food Retail|On-farm Electricity Use|Food Packaging|Agrifood Systems Waste Disposal|Food Processing|Fertilizers Manufacturing|               IPPU|Manure applied to Soils|Manure left on Pasture|  Manure Management|Rural population|Urban population|Total Population - Male|Total Population - Female|total_emission|Average Temperature °C|\n",
      "+----+----+--------------------+--------------------+------------------+----------------+--------------+-------------------+---------------------+--------------------------+-----------+-----------------------+--------------+-------------------------------+---------------+-------------------------+-------------------+-----------------------+----------------------+-------------------+----------------+----------------+-----------------------+-------------------------+--------------+----------------------+\n",
      "| 0.0| 0.0|0.004450825556353195|0.013352476669059584|0.1994256999282125|             0.0|           0.0|0.07078248384781048|  0.07078248384781048|       0.06791098348887294|        0.0|                    0.0|           0.0|                            0.0|            0.0|                      0.0|0.10667623833452979|    0.13323761665470207|                   0.0|0.13323761665470207|             0.0|             0.0|                    0.0|                      0.0|           0.0|                   0.0|\n",
      "+----+----+--------------------+--------------------+------------------+----------------+--------------+-------------------+---------------------+--------------------------+-----------+-----------------------+--------------+-------------------------------+---------------+-------------------------+-------------------+-----------------------+----------------------+-------------------+----------------+----------------+-----------------------+-------------------------+--------------+----------------------+\n",
      "\n",
      "+----+----+-------------+------------+-------------+----------------+--------------+----------+---------------------+--------------------------+-----------+-----------------------+--------------+-------------------------------+---------------+-------------------------+----+-----------------------+----------------------+-----------------+----------------+----------------+-----------------------+-------------------------+--------------+----------------------+\n",
      "|Area|Year|Savanna fires|Forest fires|Crop Residues|Rice Cultivation|Food Transport|Forestland|Net Forest conversion|Food Household Consumption|Food Retail|On-farm Electricity Use|Food Packaging|Agrifood Systems Waste Disposal|Food Processing|Fertilizers Manufacturing|IPPU|Manure applied to Soils|Manure left on Pasture|Manure Management|Rural population|Urban population|Total Population - Male|Total Population - Female|total_emission|Average Temperature °C|\n",
      "+----+----+-------------+------------+-------------+----------------+--------------+----------+---------------------+--------------------------+-----------+-----------------------+--------------+-------------------------------+---------------+-------------------------+----+-----------------------+----------------------+-----------------+----------------+----------------+-----------------------+-------------------------+--------------+----------------------+\n",
      "| 0.0| 0.0|          0.0|         0.0|          0.0|             0.0|           0.0|       0.0|                  0.0|                       0.0|        0.0|                    0.0|           0.0|                            0.0|            0.0|                      0.0| 0.0|                    0.0|                   0.0|              0.0|             0.0|             0.0|                    0.0|                      0.0|           0.0|                   0.0|\n",
      "+----+----+-------------+------------+-------------+----------------+--------------+----------+---------------------+--------------------------+-----------+-----------------------+--------------+-------------------------------+---------------+-------------------------+----+-----------------------+----------------------+-----------------+----------------+----------------+-----------------------+-------------------------+--------------+----------------------+\n",
      "\n"
     ]
    }
   ],
   "source": [
    "from pyspark.sql.functions import isnan, when, count, col\n",
    "\n",
    "# Calculate missing percentage\n",
    "missing_percentage = filtered_data.select(*[(count(when(isnan(c) | col(c).isNull(), c))/filtered_data.count()).alias(c) for c in filtered_data.columns])\n",
    "\n",
    "# Display missing percentage\n",
    "missing_percentage.show()\n",
    "\n",
    "# Calculate median only for numeric columns\n",
    "medians = {}\n",
    "numeric_columns = [col_name for col_name, dtype in filtered_data.dtypes if dtype != 'string']\n",
    "\n",
    "for column in numeric_columns:\n",
    "    medians[column] = filtered_data.approxQuantile(column, [0.5], 0.001)[0]\n",
    "\n",
    "# Fill missing values in numeric columns with their respective medians\n",
    "for column, median in medians.items():\n",
    "    filtered_data = filtered_data.withColumn(column, when(col(column).isNull(), median).otherwise(col(column)))\n",
    "\n",
    "# Recheck missing percentage after filling\n",
    "missing_percentage_after = filtered_data.select(*[(count(when(isnan(c) | col(c).isNull(), c))/filtered_data.count()).alias(c) for c in filtered_data.columns])\n",
    "missing_percentage_after.show()\n"
   ]
  },
  {
   "cell_type": "markdown",
   "metadata": {},
   "source": [
    "Data Visualization and Descriptive Statistics"
   ]
  },
  {
   "cell_type": "code",
   "execution_count": 3,
   "metadata": {},
   "outputs": [
    {
     "name": "stdout",
     "output_type": "stream",
     "text": [
      "              Year  Savanna fires  Forest fires  Crop Residues  \\\n",
      "count  6965.000000    6965.000000   6965.000000    6965.000000   \n",
      "mean   2005.124910    1183.108885    907.033657     820.057854   \n",
      "std       8.894665    5235.194062   3696.660422    3330.113361   \n",
      "min    1990.000000       0.000000      0.000000       0.000200   \n",
      "25%    1997.000000       0.000000      0.000000      25.360100   \n",
      "50%    2005.000000       1.643100      0.483100     102.891700   \n",
      "75%    2013.000000     108.361700     61.237200     264.718000   \n",
      "max    2020.000000  114616.401100  52227.630600   33490.074100   \n",
      "\n",
      "       Rice Cultivation  Food Transport     Forestland  Net Forest conversion  \\\n",
      "count       6965.000000     6965.000000    6965.000000           6.965000e+03   \n",
      "mean        4259.666673     1939.581760  -16570.808969           1.636260e+04   \n",
      "std        17613.825187     5616.748808   79013.974879           9.761518e+04   \n",
      "min            0.000000        0.000100 -797183.079000           0.000000e+00   \n",
      "25%          181.260800       27.958600   -2299.387200           0.000000e+00   \n",
      "50%          534.817400      204.962800     -62.920000           4.425700e+01   \n",
      "75%         1536.640000     1207.000900       0.000000           3.830905e+03   \n",
      "max       164915.255600    67945.765000  171121.076000           1.605106e+06   \n",
      "\n",
      "       Food Household Consumption    Food Retail  ...          IPPU  \\\n",
      "count                 6965.000000    6965.000000  ...  6.965000e+03   \n",
      "mean                  4528.820925    2043.210539  ...  1.794420e+04   \n",
      "std                  24925.930102    8494.249260  ...  1.054760e+05   \n",
      "min                      0.000000       0.000000  ...  0.000000e+00   \n",
      "25%                     13.797400      26.818500  ...  5.193070e+01   \n",
      "50%                    153.796800     172.042600  ...  7.997653e+02   \n",
      "75%                   1238.668800    1075.999100  ...  4.990590e+03   \n",
      "max                 466288.200700  133784.065300  ...  1.861641e+06   \n",
      "\n",
      "       Manure applied to Soils  Manure left on Pasture  Manure Management  \\\n",
      "count              6965.000000             6965.000000        6965.000000   \n",
      "mean                816.246669             3518.026573        1997.713807   \n",
      "std                3016.665875             9103.556202        7460.639826   \n",
      "min                   0.049000                0.000700           0.432900   \n",
      "25%                  23.119500              139.669900          52.707800   \n",
      "50%                 120.307200              972.567400         269.680200   \n",
      "75%                 379.964800             2430.792600         883.170300   \n",
      "max               34677.360300            92630.756800       70592.646500   \n",
      "\n",
      "       Rural population  Urban population  Total Population - Male  \\\n",
      "count      6.965000e+03      6.965000e+03             6.965000e+03   \n",
      "mean       1.785774e+07      1.693230e+07             1.761963e+07   \n",
      "std        8.901521e+07      6.574362e+07             7.603993e+07   \n",
      "min        0.000000e+00      0.000000e+00             2.500000e+02   \n",
      "25%        9.731100e+04      2.173860e+05             2.013260e+05   \n",
      "50%        1.595322e+06      2.357581e+06             2.469660e+06   \n",
      "75%        8.177340e+06      8.277123e+06             9.075924e+06   \n",
      "max        9.000991e+08      9.020778e+08             7.435866e+08   \n",
      "\n",
      "       Total Population - Female  total_emission  Average Temperature °C  \n",
      "count               6.965000e+03    6.965000e+03             6965.000000  \n",
      "mean                1.732447e+07    6.409124e+04                0.872989  \n",
      "std                 7.251711e+07    2.283130e+05                0.555930  \n",
      "min                 2.700000e+02   -3.918841e+05               -1.415833  \n",
      "25%                 2.078900e+05    5.221244e+03                0.511333  \n",
      "50%                 2.444135e+06    1.214765e+04                0.834300  \n",
      "75%                 9.112588e+06    3.513973e+04                1.206750  \n",
      "max                 7.133419e+08    3.115114e+06                3.558083  \n",
      "\n",
      "[8 rows x 25 columns]\n"
     ]
    },
    {
     "data": {
      "image/png": "[encoded data removed]",
      "text/plain": [
       "<Figure size 720x432 with 1 Axes>"
      ]
     },
     "metadata": {
      "needs_background": "light"
     },
     "output_type": "display_data"
    },
    {
     "data": {
      "image/png": "[encoded data removed]",
      "text/plain": [
       "<Figure size 720x576 with 1 Axes>"
      ]
     },
     "metadata": {
      "needs_background": "light"
     },
     "output_type": "display_data"
    }
   ],
   "source": [
    "import seaborn as sns\n",
    "import matplotlib.pyplot as plt\n",
    "\n",
    "# Convert to Pandas for visualization and statistics\n",
    "pdf_filtered = filtered_data.toPandas()\n",
    "\n",
    "# Print descriptive statistics\n",
    "print(pdf_filtered.describe())\n",
    "\n",
    "# Plot boxplot for Forest fires\n",
    "plt.figure(figsize=(10, 6))\n",
    "sns.boxplot(x=pdf_filtered['Forest fires'])\n",
    "plt.title('Boxplot of Forest Fires Emissions')\n",
    "plt.show()\n",
    "\n",
    "# Scatter plot of Total Population vs Total Emissions\n",
    "plt.figure(figsize=(10, 8))\n",
    "sns.scatterplot(x=pdf_filtered['Total Population - Male'] + pdf_filtered['Total Population - Female'], y=pdf_filtered['total_emission'])\n",
    "plt.title('Scatterplot of Total Population vs. Total Emissions')\n",
    "plt.xlabel('Total Population - Both sexes')\n",
    "plt.ylabel('Total Emissions')\n",
    "plt.show()\n"
   ]
  },
  {
   "cell_type": "markdown",
   "metadata": {},
   "source": [
    "Grouping by Area and Year"
   ]
  },
  {
   "cell_type": "code",
   "execution_count": 4,
   "metadata": {},
   "outputs": [
    {
     "name": "stdout",
     "output_type": "stream",
     "text": [
      "+----------------+------+-----------------------------+\n",
      "|            Area|  Year|Yearly Average Temperature °C|\n",
      "+----------------+------+-----------------------------+\n",
      "|China, Macao SAR|1990.0|          0.39691666666666664|\n",
      "|          Cyprus|1990.0|                      0.16925|\n",
      "|         Nigeria|1991.0|          0.32591666666666663|\n",
      "|         Albania|2013.0|           1.3974166666666665|\n",
      "|         Algeria|2018.0|           1.3216666666666665|\n",
      "+----------------+------+-----------------------------+\n",
      "only showing top 5 rows\n",
      "\n"
     ]
    }
   ],
   "source": [
    "# Grouping by Area and Year and calculating the mean for 'Average Temperature °C'\n",
    "grouped_data = filtered_data.groupby(['Area', 'Year']).agg({'Average Temperature °C': 'mean'})\n",
    "grouped_data = grouped_data.withColumnRenamed('avg(Average Temperature °C)', 'Yearly Average Temperature °C')\n",
    "grouped_data.show(5)\n"
   ]
  },
  {
   "cell_type": "markdown",
   "metadata": {},
   "source": [
    "Merging and Saving the Final Dataset"
   ]
  },
  {
   "cell_type": "code",
   "execution_count": 5,
   "metadata": {},
   "outputs": [],
   "source": [
    "# Merging the original filtered data with grouped_data to get yearly average temperature\n",
    "final_data = filtered_data.join(grouped_data, ['Area', 'Year'], 'left')\n",
    "\n",
    "# Save the final dataset to CSV\n",
    "final_data.write.csv(\"final_agrofood_co2_emission.csv\", header=True)\n"
   ]
  },
  {
   "cell_type": "code",
   "execution_count": null,
   "metadata": {},
   "outputs": [],
   "source": []
  }
 ],
 "metadata": {
  "anaconda-cloud": {},
  "kernelspec": {
   "display_name": "Python 3 (ipykernel)",
   "language": "python",
   "name": "python3"
  },
  "language_info": {
   "codemirror_mode": {
    "name": "ipython",
    "version": 3
   },
   "file_extension": ".py",
   "mimetype": "text/x-python",
   "name": "python",
   "nbconvert_exporter": "python",
   "pygments_lexer": "ipython3",
   "version": "3.10.4"
  }
 },
 "nbformat": 4,
 "nbformat_minor": 1
}
